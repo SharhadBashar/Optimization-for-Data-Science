{
 "cells": [
  {
   "cell_type": "markdown",
   "metadata": {},
   "source": [
    "# Assigment 5\n",
    "\n",
    "## Upload your code (.ipynb) on Learn dropbox and submit pdfs of the code and to Crowdmark.\n",
    "\n",
    "## -----------------------------------------------------------------------------------------------------------"
   ]
  },
  {
   "cell_type": "markdown",
   "metadata": {},
   "source": [
    "## Classification"
   ]
  },
  {
   "cell_type": "code",
   "execution_count": 880,
   "metadata": {},
   "outputs": [
    {
     "name": "stdout",
     "output_type": "stream",
     "text": [
      "Loaded data: Heart Scale\n"
     ]
    }
   ],
   "source": [
    "# Download the LIBSVM package from here: https://www.csie.ntu.edu.tw/~cjlin/libsvm/#download \n",
    "# If your download is successfull you should have the folder with name: libsvm-3.24.\n",
    "# We will use this package to load datasets. \n",
    "\n",
    "# Enter the downloaded folder libsvm-3.24 through your terminal. \n",
    "# Run make command to compile the package.\n",
    "\n",
    "# Load this auxiliary package.\n",
    "import sys\n",
    "\n",
    "# add here your path to the folder libsvm-3.24/python\n",
    "path = \"/home/tempo/Desktop/Fall 2019/CS 794/a5/libsvm-3.24/python\"\n",
    "# Add the path to the Python paths so Python can find the module.\n",
    "sys.path.append(path)\n",
    "\n",
    "# Load the LIBSVM module.\n",
    "from svmutil import *\n",
    "\n",
    "# Add here your path to the folder libsvm-3.24\n",
    "path = \"/home/tempo/Desktop/Fall 2019/CS 794/a5/libsvm-3.24\"\n",
    "\n",
    "# Test that it works. This will load the data \"heart_scale\" \n",
    "# and it will store the labels in \"b\" and the data matrix in \"A\".\n",
    "b, A = svm_read_problem(path + '/heart_scale')\n",
    "print('Loaded data: Heart Scale')\n",
    "# Use \"svm_read_problem\" function to load data for your assignment.\n",
    "\n",
    "# Note that matrix \"A\" stores the data in a sparse format. \n",
    "# In particular matrix \"A\" is a list of dictionaries. \n",
    "# The length of the list gives you the number of samples.\n",
    "# Each entry in the list is a dictionary. The keys of the dictionary are the non-zero features.\n",
    "# The values of the dictionary for each key is a list which gives you the feature value. "
   ]
  },
  {
   "cell_type": "code",
   "execution_count": 881,
   "metadata": {},
   "outputs": [],
   "source": [
    "import matplotlib.pyplot as plt\n",
    "\n",
    "# Numpy is useful for handling arrays and matrices.\n",
    "import numpy as np\n",
    "from scipy.sparse import coo_matrix\n",
    "import time\n",
    "from random import randrange as rnd\n",
    "import sklearn\n",
    "import sklearn.metrics\n",
    "import random\n",
    "import pandas as pd"
   ]
  },
  {
   "cell_type": "code",
   "execution_count": 882,
   "metadata": {},
   "outputs": [
    {
     "name": "stdout",
     "output_type": "stream",
     "text": [
      "(19996, 1355191)\n",
      "News data set loaded\n"
     ]
    }
   ],
   "source": [
    "path_news20 = r'/home/tempo/Desktop/Fall 2019/CS 794/a5/news20.binary'\n",
    "b_news20, A_news20 = svm_read_problem(path_news20) #(19996, 1355191)\n",
    "\n",
    "def splitData(A, b):\n",
    "    n = A.shape[0]\n",
    "    test_split = 15996\n",
    "    valid_split = 2000\n",
    "    train_split = 2000\n",
    "   \n",
    "    ATrain = A[0 : test_split]\n",
    "    bTrain = b[0 : test_split]\n",
    "    \n",
    "    AValid = A[test_split : test_split + valid_split]\n",
    "    bValid = b[test_split : test_split + valid_split]\n",
    "    \n",
    "    ATest = A[n - train_split :]\n",
    "    bTest = b[n - train_split :]\n",
    "    \n",
    "    return ATrain, AValid, ATest, bTrain, bValid, bTest\n",
    "\n",
    "def toSparse(A, cols):\n",
    "    row = []\n",
    "    col = []\n",
    "    data = []\n",
    "    for i in range(len(A)):\n",
    "        for key, val in A[i].items():\n",
    "            row.append(i)\n",
    "            col.append(key - 1)\n",
    "            data.append(val)\n",
    "    return coo_matrix((data, (row, col)), shape=(len(A), cols)).tocsr()\n",
    "\n",
    "def bConverter(b):\n",
    "    for i in range(len(b)):\n",
    "        if (b[i] == 2):\n",
    "            b[i] = -1\n",
    "    return b\n",
    "\n",
    "A_news20 = toSparse(A_news20, 1355191)\n",
    "b_news20 = np.array(b_news20)\n",
    "b_news20 = b_news20.reshape((b_news20.shape[0], 1))\n",
    "print(A_news20.shape)\n",
    "\n",
    "ATrain_news20, AValid_news20, ATest_news20, bTrain_news20, bValid_news20, bTest_news20 = splitData(A_news20, b_news20)\n",
    "\n",
    "print('News data set loaded')"
   ]
  },
  {
   "cell_type": "code",
   "execution_count": 883,
   "metadata": {},
   "outputs": [],
   "source": [
    "initParams = {\n",
    "    'lambda_': 0.001,\n",
    "    'epsilon': 1e-2,\n",
    "    'max_iter': 2000,\n",
    "    'alpha0': 1,\n",
    "    't': 1,\n",
    "    'beta0': np.random.uniform(-0.5, 0.5),\n",
    "    'theta': 0.5,\n",
    "    'x0_news20': np.random.uniform(-1, 1, size = (ATrain_news20.shape[1], 1)),\n",
    "    'sigma': 1e-12,\n",
    "    'delta': 1e-12\n",
    "}"
   ]
  },
  {
   "cell_type": "code",
   "execution_count": 884,
   "metadata": {},
   "outputs": [],
   "source": [
    "proxGradData = []\n",
    "accelProxGradData = []"
   ]
  },
  {
   "cell_type": "markdown",
   "metadata": {},
   "source": [
    "Download the dataset \n",
    "    news20.binary dataset: https://www.csie.ntu.edu.tw/~cjlin/libsvmtools/datasets/binary.html#news20.binary\n",
    "Check Assignment 4 for instructions about loading this dataset.\n",
    "\n",
    "Question 1\n",
    "-------------\n",
    "\n",
    "Solve the l1-regularized logistic regression problem\n",
    "$$\\mbox{minimize}_{x\\in\\mathbb{R}^d,\\beta\\in\\mathbb{R}} \\ \\lambda \\|x\\|_1 + \\frac{1}{n} \\sum_{i=1}^n \\log (1+ \\exp(-b_i(a_i^Tx + \\beta)))$$\n",
    "using \n",
    "\n",
    "1) Proximal gradient descent\n",
    "\n",
    "2) Accelerated proximal gradient descent\n",
    "\n",
    "3) Proximal coordinate descent\n",
    "\n",
    "4) Accelerated proximal coordinate descent\n",
    "\n",
    "Tune the model parameter $\\lambda$ and any parameters that the algorithms have. You only have to tune $\\lambda$ once and use the same $\\lambda$ for all algorithms. Use similar techniques to Assignment 4 to tune $\\lambda$. Plot the objective function (y-axis) vs running time in sec (x-axis) for all algorithms in the same plot. Make sure that the plots are clean and use appropriate legends. Report your generalization error. This should be measured in the same way as Assignment 4.\n",
    "\n",
    "For training split the data into training (the first 15996 datapoints), validation (the next 2000 datapoints) and testing (the next 2000 datapoints). Do not use the testing data to influence training in any way. This means that you should compute the generalization error only once when you finish your work with this part of the assignment.\n",
    "\n",
    "Marks: 15"
   ]
  },
  {
   "cell_type": "code",
   "execution_count": 885,
   "metadata": {},
   "outputs": [],
   "source": [
    "def lineSearch(beta, xCurrent, gradF, A, b):\n",
    "    lambda_ = initParams['lambda_']\n",
    "    alpha = initParams['alpha0']\n",
    "    theta = initParams['theta']\n",
    "    logisticRegression = LogisticRegression()\n",
    "    proxGradDesc = ProxGradDesc()\n",
    "    \n",
    "    #Compute F(x(alpha)):\n",
    "    x_alpha = proxGradDesc.proxAG(alpha, xCurrent, gradF)\n",
    "    F_x_alpha = logisticRegression.objFunc(x_alpha, A, b, beta)\n",
    "    \n",
    "    #Compute F(x_k):\n",
    "    F_x_k = logisticRegression.objFunc(xCurrent, A, b, beta)\n",
    "    \n",
    "    #Compute theta * (l(x_k) - l(x(alpha))):\n",
    "    l_x_k = F_x_k\n",
    "    l_x_alpha = logisticRegression.gx(x_alpha) + logisticRegression.fx(xCurrent, A, b, beta) + np.dot(gradF.T, x_alpha - xCurrent)\n",
    "    \n",
    "    while (F_x_alpha > F_x_k - theta * (l_x_k - l_x_alpha)):\n",
    "        alpha /= 2\n",
    "        \n",
    "        #Compute F(x(alpha)):\n",
    "        x_alpha = proxGradDesc.proxAG(alpha, xCurrent, gradF)\n",
    "        F_x_alpha = logisticRegression.objFunc(x_alpha, A, b, beta)\n",
    "        l_x_alpha = logisticRegression.gx(x_alpha) + logisticRegression.fx(xCurrent, A, b, beta) + np.dot(gradF.T, x_alpha - xCurrent)\n",
    "    \n",
    "    return alpha\n",
    "\n",
    "def validationError(bTrue, bPredict):\n",
    "    t = len(bTrue)\n",
    "    totalError = 0\n",
    "    for i in range (t):\n",
    "        totalError += np.abs(bPredict[i] - bTrue[i])\n",
    "    return totalError / (2 * t)\n",
    "\n",
    "def calcAccuracy(bTrue, bPredict):\n",
    "    return 1 - .5 * validationError(bTrue, bPredict)"
   ]
  },
  {
   "cell_type": "code",
   "execution_count": 886,
   "metadata": {},
   "outputs": [],
   "source": [
    "class LogisticRegression(object):\n",
    "    \n",
    "    def __init__(self):\n",
    "        self.lambda_ = initParams[\"lambda_\"]\n",
    "        \n",
    "    def __str__(self):\n",
    "        return 'L1-regularized Logistic Regression'  \n",
    "    \n",
    "    def gx(self, x):\n",
    "        lambda_ = self.lambda_\n",
    "        return lambda_ * np.linalg.norm(x, 1)\n",
    "    \n",
    "    def fx(self, x, A, b, beta):\n",
    "        n = A.shape[0]\n",
    "        aTx = A @ x\n",
    "        sumLogistic = sum(np.log(1 + np.exp(-b * (aTx + beta))))\n",
    "        return sumLogistic / n\n",
    "    \n",
    "    def objFunc(self, x, A, b, beta):\n",
    "        g_x = self.gx(x)\n",
    "        f_x = self.fx(x, A, b, beta)\n",
    "        return g_x + f_x\n",
    "    \n",
    "    def gradient(self, x, A, b, beta):\n",
    "        n = A.shape[0]\n",
    "        aTx = A @ x\n",
    "        denom = 1 / (1 + np.exp(b * (aTx + beta)))\n",
    "        \n",
    "        gradBeta = sum(-b * denom) / n\n",
    "        gradFx = A.T @ (-b * denom)/n\n",
    "        return gradFx, gradBeta    \n",
    "    \n",
    "    def predict(self, x, A, beta):\n",
    "        aTx = A @ x\n",
    "        sigma = 1 + np.exp(-(aTx + beta))\n",
    "        return 2 * (sigma < 2) - 1"
   ]
  },
  {
   "cell_type": "code",
   "execution_count": 887,
   "metadata": {},
   "outputs": [],
   "source": [
    "class ProxGradDesc():\n",
    "    def __init__(self):\n",
    "        self.lambda_ = initParams['lambda_']\n",
    "        self.epsilon = initParams['epsilon']\n",
    "        self.beta = initParams['beta0']\n",
    "        self.logisticRegression = LogisticRegression()\n",
    "        \n",
    "    def __str__(self):\n",
    "        return 'Proximal Gradient Descent'\n",
    "    \n",
    "    def proxAG(self, alpha, x, gradF):\n",
    "        lambda_ = self.lambda_\n",
    "        xNext = np.zeros((x.shape[0], 1))\n",
    "        la = lambda_ * alpha\n",
    "        u = x - lambda_ * alpha * gradF\n",
    "        \n",
    "        xNext[u >= la] = u[u >= la] - la\n",
    "        xNext[np.abs(u) <= la] = 0\n",
    "        xNext[u <= -la] = u[u <= -la] + la\n",
    "        \n",
    "        return xNext\n",
    "    \n",
    "    def proxGrad(self, xCurrent, A, b):\n",
    "        beta = self.beta\n",
    "        max_iters = initParams['max_iter']\n",
    "        start = time.time()\n",
    "        for i in range(max_iters):\n",
    "            gradF, gradB = self.logisticRegression.gradient(xCurrent, A, b, beta)\n",
    "            alpha = lineSearch(beta, xCurrent, gradF, A, b)\n",
    "            \n",
    "            proxGradData.append([self.logisticRegression.objFunc(xCurrent, A, b, beta), time.time() - start])\n",
    "            if (i % 200 == 0):\n",
    "                print('Iteration:', i, 'out of', max_iters, 'iterations')\n",
    "            xNext = self.proxAG(alpha, xCurrent, gradF)\n",
    "            \n",
    "            Gx = (xCurrent - xNext) / alpha\n",
    "            \n",
    "            if (np.linalg.norm(Gx) < self.epsilon):\n",
    "                return xNext, beta\n",
    "            else:\n",
    "                xCurrent = xNext\n",
    "                beta -= alpha * gradB\n",
    "        \n",
    "        return xNext, beta    "
   ]
  },
  {
   "cell_type": "code",
   "execution_count": 888,
   "metadata": {},
   "outputs": [],
   "source": [
    "class AccelProxGradDesc():\n",
    "    def __init__(self, lambda_ = initParams['lambda_']):\n",
    "        self.lambda_ = lambda_\n",
    "        self.epsilon = initParams['epsilon']\n",
    "        self.beta = initParams['beta0']\n",
    "        self.t = initParams['t']\n",
    "        self.logisticRegression = LogisticRegression()\n",
    "        \n",
    "    def __str__(self):\n",
    "        return 'Accelerated Proximal Gradient Descent'\n",
    "    \n",
    "    def accelProxAG(self, alpha, y, gradF):\n",
    "        lambda_ = self.lambda_\n",
    "        xNext = np.zeros((y.shape[0], 1))\n",
    "        la = lambda_ * alpha\n",
    "        u = y - lambda_ * alpha * gradF\n",
    "        \n",
    "        xNext[u >= la] = u[u >= la] - la\n",
    "        xNext[np.abs(u) <= la] = 0\n",
    "        xNext[u <= -la] = u[u <= -la] + la\n",
    "        \n",
    "        return xNext\n",
    "    \n",
    "    def accelProxGrad(self, xCurrent, A, b):\n",
    "        beta = self.beta\n",
    "        max_iters = initParams['max_iter']\n",
    "        tCurrent = self.t\n",
    "        yCurrent = xCurrent\n",
    "        start = time.time()\n",
    "        for i in range(max_iters):\n",
    "            gradF, gradB = self.logisticRegression.gradient(xCurrent, A, b, beta)\n",
    "            alpha = lineSearch(beta, xCurrent, gradF, A, b)\n",
    "            \n",
    "            accelProxGradData.append([self.logisticRegression.objFunc(xCurrent, A, b, beta), time.time() - start])\n",
    "            if (i % 200 == 0):\n",
    "                print('Iteration:', i, 'out of', max_iters, 'iterations')\n",
    "            xNext = self.accelProxAG(alpha, yCurrent, gradF)\n",
    "            tNext = (1 + np.sqrt(1 + 4 * tCurrent ** 2)) / 2\n",
    "            yCurrent = xNext + ((tCurrent - 1)/tNext) * (xNext - xCurrent)\n",
    "            \n",
    "            Gx = (xCurrent - xNext) / alpha\n",
    "            \n",
    "            if (np.linalg.norm(Gx) < self.epsilon):\n",
    "                return xNext, beta\n",
    "            else:\n",
    "                xCurrent = xNext\n",
    "                tCurrent = tNext\n",
    "                beta -= alpha * gradB\n",
    "        \n",
    "        return xNext, beta"
   ]
  },
  {
   "cell_type": "code",
   "execution_count": 889,
   "metadata": {},
   "outputs": [],
   "source": [
    "def calcError(x, beta):\n",
    "    logisticRegression = LogisticRegression()\n",
    "    bPredict = logisticRegression.predict(x, AValid_news20, beta)\n",
    "    error = validationError(bValid_news20, bPredict)\n",
    "    accuracy = calcAccuracy(bValid_news20, bPredict)\n",
    "    return error, accuracy"
   ]
  },
  {
   "cell_type": "code",
   "execution_count": 890,
   "metadata": {
    "scrolled": false
   },
   "outputs": [
    {
     "name": "stdout",
     "output_type": "stream",
     "text": [
      "Starting Proximal Gradient Descent\n",
      "Iteration: 0 out of 2000 iterations\n",
      "Iteration: 200 out of 2000 iterations\n",
      "Iteration: 400 out of 2000 iterations\n",
      "Iteration: 600 out of 2000 iterations\n",
      "Iteration: 800 out of 2000 iterations\n",
      "Iteration: 1000 out of 2000 iterations\n",
      "Done Proximal Gradient Descent in 373.2762362957001 s\n",
      "Error: [1.] Accuracy: [0.5]\n",
      "\n",
      "Starting Accelerated Proximal Gradient Descent\n",
      "Iteration: 0 out of 2000 iterations\n",
      "Done Accelerated Proximal Gradient Descent in 75.85138416290283 s\n",
      "Error: [1.] Accuracy: [0.5]\n"
     ]
    }
   ],
   "source": [
    "x0 = initParams['x0_news20']\n",
    "print('Starting', ProxGradDesc().__str__())\n",
    "start = time.time()\n",
    "xProxGrad, betaProxGrad = ProxGradDesc().proxGrad(x0, ATrain_news20, bTrain_news20)\n",
    "end = time.time() - start\n",
    "print('Done', ProxGradDesc().__str__(), 'in', end, 's')\n",
    "error, accuracy = calcError(xProxGrad, betaProxGrad)\n",
    "print('Error:', error, 'Accuracy:', accuracy)\n",
    "\n",
    "print()\n",
    "\n",
    "print('Starting', AccelProxGradDesc().__str__())\n",
    "start = time.time()\n",
    "xAccelProxGrad, betaAccelProxGrad = AccelProxGradDesc().accelProxGrad(x0, ATrain_news20, bTrain_news20)\n",
    "end = time.time() - start\n",
    "print('Done', AccelProxGradDesc().__str__(), 'in', end, 's')\n",
    "error, accuracy = calcError(xAccelProxGrad, betaAccelProxGrad)\n",
    "print('Error:', error, 'Accuracy:', accuracy)"
   ]
  },
  {
   "cell_type": "code",
   "execution_count": 891,
   "metadata": {},
   "outputs": [
    {
     "data": {
      "image/png": "[encoded data removed]",
      "text/plain": [
       "<Figure size 432x288 with 1 Axes>"
      ]
     },
     "metadata": {
      "needs_background": "light"
     },
     "output_type": "display_data"
    }
   ],
   "source": [
    "proxGradData = np.asarray(proxGradData)\n",
    "accelProxGradData = np.asarray(accelProxGradData)\n",
    "plt.plot(proxGradData[:, 1], proxGradData[:, 0], label = ProxGradDesc().__str__())\n",
    "plt.plot(accelProxGradData[:, 1], accelProxGradData[:, 0], label = AccelProxGradDesc().__str__())\n",
    "plt.xlabel('time (s)')\n",
    "plt.ylabel('Objective Fucntion F(x)')\n",
    "plt.title('Proximal and Accelerated Gradient Descents')\n",
    "plt.legend()\n",
    "plt.show()"
   ]
  },
  {
   "cell_type": "markdown",
   "metadata": {},
   "source": [
    "## Did not have time to do Coordinate Descent"
   ]
  },
  {
   "cell_type": "markdown",
   "metadata": {},
   "source": [
    "Question 2\n",
    "-------------\n",
    "\n",
    "Pick one algorithm that you want and plot the number of nonzeros in the output of the algorithm against $\\lambda$. Explain in a couple of sentences (or less) what do you observe.\n",
    "\n",
    "Marks: 10"
   ]
  },
  {
   "cell_type": "code",
   "execution_count": 842,
   "metadata": {},
   "outputs": [],
   "source": [
    "class NumNonZero():\n",
    "    def __init__(self, lambda_):\n",
    "        self.lambda_ = lambda_\n",
    "        self.epsilon = initParams['epsilon']\n",
    "        self.beta = initParams['beta0']\n",
    "        self.t = initParams['t']\n",
    "        self.logisticRegression = LogisticRegression()\n",
    "        \n",
    "    def __str__(self):\n",
    "        return 'Accelerated Proximal Gradient Descent'\n",
    "    \n",
    "    def accelProxAG(self, alpha, y, gradF):\n",
    "        lambda_ = self.lambda_\n",
    "        xNext = np.zeros((y.shape[0], 1))\n",
    "        la = lambda_ * alpha\n",
    "        u = y - lambda_ * alpha * gradF\n",
    "        \n",
    "        xNext[u >= la] = u[u >= la] - la\n",
    "        xNext[np.abs(u) <= la] = 0\n",
    "        xNext[u <= -la] = u[u <= -la] + la\n",
    "        \n",
    "        return xNext\n",
    "    \n",
    "    def accelProxGrad(self, xCurrent, A, b):\n",
    "        beta = self.beta\n",
    "        max_iters = 200\n",
    "        tCurrent = self.t\n",
    "        yCurrent = xCurrent\n",
    "        start = time.time()\n",
    "        for i in range(max_iters):\n",
    "            gradF, gradB = self.logisticRegression.gradient(xCurrent, A, b, beta)\n",
    "            alpha = lineSearch(beta, xCurrent, gradF, A, b)\n",
    "            \n",
    "            xNext = self.accelProxAG(alpha, yCurrent, gradF)\n",
    "            tNext = (1 + np.sqrt(1 + 4 * tCurrent ** 2)) / 2\n",
    "            yCurrent = xNext + ((tCurrent - 1)/tNext) * (xNext - xCurrent)\n",
    "            \n",
    "            Gx = (xCurrent - xNext) / alpha\n",
    "            \n",
    "            if (np.linalg.norm(Gx) < self.epsilon):\n",
    "                return xNext, beta\n",
    "            else:\n",
    "                xCurrent = xNext\n",
    "                tCurrent = tNext\n",
    "                beta -= alpha * gradB\n",
    "        \n",
    "        return xNext, beta"
   ]
  },
  {
   "cell_type": "code",
   "execution_count": 859,
   "metadata": {
    "scrolled": false
   },
   "outputs": [
    {
     "name": "stdout",
     "output_type": "stream",
     "text": [
      "Lambda = 1e-06\n",
      "Starting Accelerated Proximal Gradient Descent number 0 of 30\n",
      "Done Accelerated Proximal Gradient Descent number 0 of 30 in 0.384655237197876 s\n",
      "Number of non zeros: 1355187\n",
      "Error: [0.528] Accuracy: [0.736]\n",
      "\n",
      "Lambda = 1.6102620275609392e-06\n",
      "Starting Accelerated Proximal Gradient Descent number 1 of 30\n",
      "Done Accelerated Proximal Gradient Descent number 1 of 30 in 0.3546900749206543 s\n",
      "Number of non zeros: 1355187\n",
      "Error: [0.528] Accuracy: [0.736]\n",
      "\n",
      "Lambda = 2.592943797404667e-06\n",
      "Starting Accelerated Proximal Gradient Descent number 2 of 30\n",
      "Done Accelerated Proximal Gradient Descent number 2 of 30 in 0.3568439483642578 s\n",
      "Number of non zeros: 1355184\n",
      "Error: [0.528] Accuracy: [0.736]\n",
      "\n",
      "Lambda = 4.1753189365604e-06\n",
      "Starting Accelerated Proximal Gradient Descent number 3 of 30\n",
      "Done Accelerated Proximal Gradient Descent number 3 of 30 in 0.3671834468841553 s\n",
      "Number of non zeros: 1355180\n",
      "Error: [0.528] Accuracy: [0.736]\n",
      "\n",
      "Lambda = 6.723357536499335e-06\n",
      "Starting Accelerated Proximal Gradient Descent number 4 of 30\n",
      "Done Accelerated Proximal Gradient Descent number 4 of 30 in 0.3542604446411133 s\n",
      "Number of non zeros: 1355177\n",
      "Error: [0.528] Accuracy: [0.736]\n",
      "\n",
      "Lambda = 1.082636733874054e-05\n",
      "Starting Accelerated Proximal Gradient Descent number 5 of 30\n",
      "Done Accelerated Proximal Gradient Descent number 5 of 30 in 70.8730731010437 s\n",
      "Number of non zeros: 1338571\n",
      "Error: [0.835] Accuracy: [0.5825]\n",
      "\n",
      "Lambda = 1.7433288221999873e-05\n",
      "Starting Accelerated Proximal Gradient Descent number 6 of 30\n",
      "Done Accelerated Proximal Gradient Descent number 6 of 30 in 71.22521686553955 s\n",
      "Number of non zeros: 1328280\n",
      "Error: [0.8445] Accuracy: [0.57775]\n",
      "\n",
      "Lambda = 2.8072162039411757e-05\n",
      "Starting Accelerated Proximal Gradient Descent number 7 of 30\n",
      "Done Accelerated Proximal Gradient Descent number 7 of 30 in 73.6137273311615 s\n",
      "Number of non zeros: 1311522\n",
      "Error: [0.8725] Accuracy: [0.56375]\n",
      "\n",
      "Lambda = 4.520353656360241e-05\n",
      "Starting Accelerated Proximal Gradient Descent number 8 of 30\n",
      "Done Accelerated Proximal Gradient Descent number 8 of 30 in 74.36868786811829 s\n",
      "Number of non zeros: 1284874\n",
      "Error: [0.9135] Accuracy: [0.54325]\n",
      "\n",
      "Lambda = 7.278953843983146e-05\n",
      "Starting Accelerated Proximal Gradient Descent number 9 of 30\n",
      "Done Accelerated Proximal Gradient Descent number 9 of 30 in 73.06985092163086 s\n",
      "Number of non zeros: 1242130\n",
      "Error: [0.9655] Accuracy: [0.51725]\n",
      "\n",
      "Lambda = 0.00011721022975334806\n",
      "Starting Accelerated Proximal Gradient Descent number 10 of 30\n",
      "Done Accelerated Proximal Gradient Descent number 10 of 30 in 70.71440815925598 s\n",
      "Number of non zeros: 1173004\n",
      "Error: [1.] Accuracy: [0.5]\n",
      "\n",
      "Lambda = 0.00018873918221350977\n",
      "Starting Accelerated Proximal Gradient Descent number 11 of 30\n",
      "Done Accelerated Proximal Gradient Descent number 11 of 30 in 70.755211353302 s\n",
      "Number of non zeros: 1062055\n",
      "Error: [1.] Accuracy: [0.5]\n",
      "\n",
      "Lambda = 0.0003039195382313198\n",
      "Starting Accelerated Proximal Gradient Descent number 12 of 30\n",
      "Done Accelerated Proximal Gradient Descent number 12 of 30 in 70.57613897323608 s\n",
      "Number of non zeros: 883938\n",
      "Error: [1.] Accuracy: [0.5]\n",
      "\n",
      "Lambda = 0.0004893900918477494\n",
      "Starting Accelerated Proximal Gradient Descent number 13 of 30\n",
      "Done Accelerated Proximal Gradient Descent number 13 of 30 in 70.40085554122925 s\n",
      "Number of non zeros: 597989\n",
      "Error: [1.] Accuracy: [0.5]\n",
      "\n",
      "Lambda = 0.0007880462815669912\n",
      "Starting Accelerated Proximal Gradient Descent number 14 of 30\n",
      "Done Accelerated Proximal Gradient Descent number 14 of 30 in 68.62780714035034 s\n",
      "Number of non zeros: 139617\n",
      "Error: [1.] Accuracy: [0.5]\n",
      "\n",
      "Lambda = 0.0012689610031679222\n",
      "Starting Accelerated Proximal Gradient Descent number 15 of 30\n",
      "Done Accelerated Proximal Gradient Descent number 15 of 30 in 57.01019215583801 s\n",
      "Number of non zeros: 263\n",
      "Error: [1.] Accuracy: [0.5]\n",
      "\n",
      "Lambda = 0.0020433597178569417\n",
      "Starting Accelerated Proximal Gradient Descent number 16 of 30\n",
      "Done Accelerated Proximal Gradient Descent number 16 of 30 in 43.563100814819336 s\n",
      "Number of non zeros: 12\n",
      "Error: [1.] Accuracy: [0.5]\n",
      "\n",
      "Lambda = 0.0032903445623126675\n",
      "Starting Accelerated Proximal Gradient Descent number 17 of 30\n",
      "Done Accelerated Proximal Gradient Descent number 17 of 30 in 30.797584533691406 s\n",
      "Number of non zeros: 0\n",
      "Error: [1.] Accuracy: [0.5]\n",
      "\n",
      "Lambda = 0.005298316906283708\n",
      "Starting Accelerated Proximal Gradient Descent number 18 of 30\n",
      "Done Accelerated Proximal Gradient Descent number 18 of 30 in 22.702316761016846 s\n",
      "Number of non zeros: 0\n",
      "Error: [1.] Accuracy: [0.5]\n",
      "\n",
      "Lambda = 0.008531678524172805\n",
      "Starting Accelerated Proximal Gradient Descent number 19 of 30\n",
      "Done Accelerated Proximal Gradient Descent number 19 of 30 in 15.952172756195068 s\n",
      "Number of non zeros: 0\n",
      "Error: [1.] Accuracy: [0.5]\n",
      "\n",
      "Lambda = 0.013738237958832637\n",
      "Starting Accelerated Proximal Gradient Descent number 20 of 30\n",
      "Done Accelerated Proximal Gradient Descent number 20 of 30 in 12.121438980102539 s\n",
      "Number of non zeros: 0\n",
      "Error: [1.] Accuracy: [0.5]\n",
      "\n",
      "Lambda = 0.022122162910704502\n",
      "Starting Accelerated Proximal Gradient Descent number 21 of 30\n",
      "Done Accelerated Proximal Gradient Descent number 21 of 30 in 8.555159091949463 s\n",
      "Number of non zeros: 0\n",
      "Error: [1.] Accuracy: [0.5]\n",
      "\n",
      "Lambda = 0.03562247890262444\n",
      "Starting Accelerated Proximal Gradient Descent number 22 of 30\n",
      "Done Accelerated Proximal Gradient Descent number 22 of 30 in 6.21954607963562 s\n",
      "Number of non zeros: 0\n",
      "Error: [1.] Accuracy: [0.5]\n",
      "\n",
      "Lambda = 0.05736152510448681\n",
      "Starting Accelerated Proximal Gradient Descent number 23 of 30\n",
      "Done Accelerated Proximal Gradient Descent number 23 of 30 in 4.278119087219238 s\n",
      "Number of non zeros: 0\n",
      "Error: [1.] Accuracy: [0.5]\n",
      "\n",
      "Lambda = 0.09236708571873865\n",
      "Starting Accelerated Proximal Gradient Descent number 24 of 30\n",
      "Done Accelerated Proximal Gradient Descent number 24 of 30 in 3.210434675216675 s\n",
      "Number of non zeros: 0\n",
      "Error: [1.] Accuracy: [0.5]\n",
      "\n",
      "Lambda = 0.14873521072935117\n",
      "Starting Accelerated Proximal Gradient Descent number 25 of 30\n",
      "Done Accelerated Proximal Gradient Descent number 25 of 30 in 2.5132956504821777 s\n",
      "Number of non zeros: 0\n",
      "Error: [1.] Accuracy: [0.5]\n",
      "\n",
      "Lambda = 0.2395026619987486\n",
      "Starting Accelerated Proximal Gradient Descent number 26 of 30\n",
      "Done Accelerated Proximal Gradient Descent number 26 of 30 in 1.598480224609375 s\n",
      "Number of non zeros: 0\n",
      "Error: [1.] Accuracy: [0.5]\n",
      "\n",
      "Lambda = 0.38566204211634725\n",
      "Starting Accelerated Proximal Gradient Descent number 27 of 30\n",
      "Done Accelerated Proximal Gradient Descent number 27 of 30 in 1.2551982402801514 s\n",
      "Number of non zeros: 0\n",
      "Error: [1.] Accuracy: [0.5]\n",
      "\n",
      "Lambda = 0.6210169418915616\n",
      "Starting Accelerated Proximal Gradient Descent number 28 of 30\n",
      "Done Accelerated Proximal Gradient Descent number 28 of 30 in 0.927734375 s\n",
      "Number of non zeros: 0\n",
      "Error: [1.] Accuracy: [0.5]\n",
      "\n",
      "Lambda = 1.0\n",
      "Starting Accelerated Proximal Gradient Descent number 29 of 30\n",
      "Done Accelerated Proximal Gradient Descent number 29 of 30 in 0.5904738903045654 s\n",
      "Number of non zeros: 0\n",
      "Error: [1.] Accuracy: [0.5]\n",
      "\n"
     ]
    }
   ],
   "source": [
    "lambda_list = np.power(10, np.linspace(-6, 0, 30))\n",
    "\n",
    "numNon0X = np.zeros_like(lambda_list)\n",
    "\n",
    "for i in range(len(lambda_list)):\n",
    "    numNonZero = NumNonZero(lambda_list[i])\n",
    "    \n",
    "    print('Lambda =', lambda_list[i])\n",
    "    print('Starting', numNonZero.__str__(), 'number', i, 'of', len(lambda_list))\n",
    "    \n",
    "    start = time.time()\n",
    "    xAccelProxGrad, betaAccelProxGrad = numNonZero.accelProxGrad(x0, ATrain_news20, bTrain_news20)\n",
    "    end = time.time() - start\n",
    "    \n",
    "    numNon0X[i] = np.count_nonzero(xAccelProxGrad)\n",
    "    \n",
    "    print('Done', numNonZero.__str__(), 'number', i, 'of', len(lambda_list), 'in', end, 's')\n",
    "    print('Number of non zeros:', np.count_nonzero(xAccelProxGrad))\n",
    "    \n",
    "    error, accuracy = calcError(xAccelProxGrad, betaAccelProxGrad)\n",
    "    \n",
    "    print('Error:', error, 'Accuracy:', accuracy)\n",
    "    \n",
    "    print()"
   ]
  },
  {
   "cell_type": "code",
   "execution_count": 860,
   "metadata": {},
   "outputs": [
    {
     "data": {
      "image/png": "[encoded data removed]",
      "text/plain": [
       "<Figure size 432x288 with 1 Axes>"
      ]
     },
     "metadata": {
      "needs_background": "light"
     },
     "output_type": "display_data"
    }
   ],
   "source": [
    "plt.plot(lambda_list, numNon0X, label = \"Number of non zeros\", linewidth = 3)\n",
    "plt.legend(fontsize = 15)\n",
    "plt.xlabel(\"$\\lambda$\", fontsize = 20)\n",
    "plt.ylabel(\"Number of non zeros\", fontsize = 20)\n",
    "plt.xscale('log')\n",
    "plt.title('Number of non zeros for Accelerated Proximal Gradient Descent')\n",
    "plt.show()"
   ]
  },
  {
   "cell_type": "markdown",
   "metadata": {},
   "source": [
    "From the graph and the printed data, we can see that the number of non zero outputs goes to zero as lambda goes to increases. This is expected since lambda is the weight for the regulization term. As we are minimizing the objective function, the regulization term will be at its lowest when x is all zeros. So if we increase lambda, the minimum of the function will most likely be found when x is all zeros. "
   ]
  },
  {
   "cell_type": "markdown",
   "metadata": {},
   "source": [
    "## Label Propagation"
   ]
  },
  {
   "cell_type": "code",
   "execution_count": 892,
   "metadata": {},
   "outputs": [
    {
     "data": {
      "image/png": "[encoded data removed]",
      "text/plain": [
       "<Figure size 720x720 with 1 Axes>"
      ]
     },
     "metadata": {
      "needs_background": "light"
     },
     "output_type": "display_data"
    }
   ],
   "source": [
    "# Load datasets from sklearn\n",
    "from sklearn import datasets\n",
    "\n",
    "# Load the digits dataset.\n",
    "# See here for a distription of this dataset: \n",
    "# https://scikit-learn.org/stable/modules/generated/sklearn.datasets.load_digits.html#sklearn.datasets.load_digits\n",
    "digits = datasets.load_digits()\n",
    "\n",
    "# Briefly, this dataset has 1797 images of digits. The digits are from 0 to 9.\n",
    "# There are about 180 images per digit.\n",
    "\n",
    "# digits.data includes the vectorized images of the digits\n",
    "# digits.target includes the labels of the images\n",
    "# digits.images includes the images in non-vectorized format\n",
    "\n",
    "# Example: number 0\n",
    "import matplotlib.pyplot as plt\n",
    "plt.figure(1, figsize=(10, 10))\n",
    "plt.imshow(digits.images[0], cmap='gray')\n",
    "plt.show()"
   ]
  },
  {
   "cell_type": "markdown",
   "metadata": {},
   "source": [
    "Let x_i and x_j be two vectorized images.\n",
    "Compute their pairwise similarity by\n",
    "$$ \n",
    "w_{ij} = \\exp(-\\gamma \\|x_i-x_j\\|_2^2),\n",
    "$$\n",
    "where $\\gamma$ is parameter tha controls the importance of the distance $\\|x_i-x_j\\|_2^2$. If $\\gamma=1/(2\\sigma^2)$ then this is called the Gaussian kernel and $\\sigma^2$ represents the variance.\n",
    "You can compute the similarities by using: https://scikit-learn.org/stable/modules/generated/sklearn.metrics.pairwise.rbf_kernel.html.\n",
    "Alterantively, you can compute the pairwise similarities manually, by using the above formula.\n",
    "\n",
    "Sparsify the graph by setting small values to zero. The thresholding tolerance is a parameter that you will have to tune. Generally, there is a consensus that sparse similarity matrices result in better performance. So, you should expect that, but have in mind that this is only an empirical observation."
   ]
  },
  {
   "cell_type": "code",
   "execution_count": 893,
   "metadata": {},
   "outputs": [],
   "source": [
    "# Example\n",
    "# Pairwise weights matrix\n",
    "W = sklearn.metrics.pairwise.rbf_kernel(digits.data)\n",
    "\n",
    "# Remove self-similarity\n",
    "W = W - np.eye(len(W))\n",
    "\n",
    "# Sparsify (tune the tolerance parameter for your problem)\n",
    "tol = 1e-9\n",
    "W[abs(W) < tol] = 0.0"
   ]
  },
  {
   "cell_type": "markdown",
   "metadata": {},
   "source": [
    "This dataset provides labels for every image of a digit. However, in this assignment we want to check how the label propagation model works. Use all images, i.e., 1797 images of digits, but use only 10 labels per type of digit, e.g., use the first 10 labels for digit 0, the first 10 labels of digit 1 etc. This means that you should use 100 labels in total out of 1797. Do not use the remaining labels for training the model. The remaining labels will be used only to measure accuracy of the model."
   ]
  },
  {
   "cell_type": "code",
   "execution_count": 894,
   "metadata": {},
   "outputs": [],
   "source": [
    "# digits.data includes the vectorized images of the digits\n",
    "# digits.target includes the labels of the images\n",
    "# digits.images includes the images in non-vectorized format\n",
    "\n",
    "def createDataSet(digits, size, numbers = 10):\n",
    "    knownSetLabel = np.array([])\n",
    "    knownSetInd = np.array([])\n",
    "    unknownSetInd = np.array([])\n",
    "    for i in range(numbers):\n",
    "        knownSetInd = np.append(knownSetInd, np.where(digits.target == i)[0][: size])\n",
    "        \n",
    "        unknownSetInd = np.append(unknownSetInd, np.where(digits.target == i)[0][size :])\n",
    "    knownSetLabel = np.append(knownSetLabel, digits.target[knownSetInd.astype(int)])\n",
    "    return knownSetInd, knownSetLabel, unknownSetInd"
   ]
  },
  {
   "cell_type": "markdown",
   "metadata": {},
   "source": [
    "Question 3\n",
    "-------------\n",
    "Train the label propagation model\n",
    "$$\n",
    "\\mbox{minimize}_{b\\in\\mathbb{R}^n} \\ \\frac{1}{2}\\sum_{i=1}^n\\sum_{j=1}^n w_{ij} (b_i -b_j)^2 + \\sum_{i=1}^{m-n}\\sum_{j=1}^n \\bar{w}_{ij} (\\bar{b}_i -b_j)^2\n",
    "$$\n",
    "using the coordinate method that was discussed in Lecture 14 for the label propagation problem. Make sure that you understand the derivation of the algorithm before you apply it to train the label propagation model.\n",
    "\n",
    "The output of the algorithm should be the soft labels $b$ for each image. However, these soft labels are not going to be integers (actual labels). Therefore, we have to round the output labels $b$ to get integer labels for each image. One possible way to round the output is to simply find the integer label (possible options 0 to 9) that a soft label is closest to. Then pick this label as the label of the image.\n",
    "\n",
    "After you label all images, use the function in https://scikit-learn.org/stable/modules/generated/sklearn.metrics.precision_recall_fscore_support.html to measure precision, recall and f1_score. You only have to provide the true and the predicted labels when using this function. Do not change the default parameters.\n",
    "\n",
    "If you want to learn more about precision, recall and f1_score check Wikipedia: \n",
    "precision and recall: https://en.wikipedia.org/wiki/Precision_and_recall\n",
    "f1_score: https://en.wikipedia.org/wiki/F1_score.\n",
    "\n",
    "Report precision, recall and f1score of your method.\n",
    "\n",
    "Marks: 20"
   ]
  },
  {
   "cell_type": "code",
   "execution_count": 895,
   "metadata": {},
   "outputs": [],
   "source": [
    "def labelProp(bBar, bBarI, bI, W, max_iter = 200):\n",
    "    b = np.random.randint(1, 10, W.shape[0]).astype(float)\n",
    "    b[bBarI.astype(int)] = bBar\n",
    "    for i in range(max_iter):\n",
    "        for j in bI:\n",
    "            j = int(j)\n",
    "            b[j] = np.dot(W[:, j], b) / np.sum(W[:, j])\n",
    "    b = np.round(b).astype(int)\n",
    "    \n",
    "    return b"
   ]
  },
  {
   "cell_type": "code",
   "execution_count": 896,
   "metadata": {},
   "outputs": [
    {
     "data": {
      "text/html": [
       "<div>\n",
       "<style scoped>\n",
       "    .dataframe tbody tr th:only-of-type {\n",
       "        vertical-align: middle;\n",
       "    }\n",
       "\n",
       "    .dataframe tbody tr th {\n",
       "        vertical-align: top;\n",
       "    }\n",
       "\n",
       "    .dataframe thead th {\n",
       "        text-align: right;\n",
       "    }\n",
       "</style>\n",
       "<table border=\"1\" class=\"dataframe\">\n",
       "  <thead>\n",
       "    <tr style=\"text-align: right;\">\n",
       "      <th></th>\n",
       "      <th>Precision</th>\n",
       "      <th>Recall</th>\n",
       "      <th>f1 Score</th>\n",
       "      <th>Num of Labels</th>\n",
       "    </tr>\n",
       "  </thead>\n",
       "  <tbody>\n",
       "    <tr>\n",
       "      <th>0</th>\n",
       "      <td>1.000000</td>\n",
       "      <td>0.994382</td>\n",
       "      <td>0.997183</td>\n",
       "      <td>178</td>\n",
       "    </tr>\n",
       "    <tr>\n",
       "      <th>1</th>\n",
       "      <td>0.960000</td>\n",
       "      <td>0.263736</td>\n",
       "      <td>0.413793</td>\n",
       "      <td>182</td>\n",
       "    </tr>\n",
       "    <tr>\n",
       "      <th>2</th>\n",
       "      <td>0.593750</td>\n",
       "      <td>0.107345</td>\n",
       "      <td>0.181818</td>\n",
       "      <td>177</td>\n",
       "    </tr>\n",
       "    <tr>\n",
       "      <th>3</th>\n",
       "      <td>0.430341</td>\n",
       "      <td>0.759563</td>\n",
       "      <td>0.549407</td>\n",
       "      <td>183</td>\n",
       "    </tr>\n",
       "    <tr>\n",
       "      <th>4</th>\n",
       "      <td>0.729167</td>\n",
       "      <td>0.966851</td>\n",
       "      <td>0.831354</td>\n",
       "      <td>181</td>\n",
       "    </tr>\n",
       "    <tr>\n",
       "      <th>5</th>\n",
       "      <td>0.541254</td>\n",
       "      <td>0.901099</td>\n",
       "      <td>0.676289</td>\n",
       "      <td>182</td>\n",
       "    </tr>\n",
       "    <tr>\n",
       "      <th>6</th>\n",
       "      <td>0.648746</td>\n",
       "      <td>1.000000</td>\n",
       "      <td>0.786957</td>\n",
       "      <td>181</td>\n",
       "    </tr>\n",
       "    <tr>\n",
       "      <th>7</th>\n",
       "      <td>0.491124</td>\n",
       "      <td>0.927374</td>\n",
       "      <td>0.642166</td>\n",
       "      <td>179</td>\n",
       "    </tr>\n",
       "    <tr>\n",
       "      <th>8</th>\n",
       "      <td>0.466667</td>\n",
       "      <td>0.120690</td>\n",
       "      <td>0.191781</td>\n",
       "      <td>174</td>\n",
       "    </tr>\n",
       "    <tr>\n",
       "      <th>9</th>\n",
       "      <td>1.000000</td>\n",
       "      <td>0.055556</td>\n",
       "      <td>0.105263</td>\n",
       "      <td>180</td>\n",
       "    </tr>\n",
       "  </tbody>\n",
       "</table>\n",
       "</div>"
      ],
      "text/plain": [
       "   Precision    Recall  f1 Score  Num of Labels\n",
       "0   1.000000  0.994382  0.997183            178\n",
       "1   0.960000  0.263736  0.413793            182\n",
       "2   0.593750  0.107345  0.181818            177\n",
       "3   0.430341  0.759563  0.549407            183\n",
       "4   0.729167  0.966851  0.831354            181\n",
       "5   0.541254  0.901099  0.676289            182\n",
       "6   0.648746  1.000000  0.786957            181\n",
       "7   0.491124  0.927374  0.642166            179\n",
       "8   0.466667  0.120690  0.191781            174\n",
       "9   1.000000  0.055556  0.105263            180"
      ]
     },
     "execution_count": 896,
     "metadata": {},
     "output_type": "execute_result"
    }
   ],
   "source": [
    "import pprint\n",
    "bBarI, bBar, bI = createDataSet(digits, 10)\n",
    "b = labelProp(bBar, bBarI, bI, W)\n",
    "\n",
    "precision, recall, f1_score, support = sklearn.metrics.precision_recall_fscore_support(digits.target, b)\n",
    "pd.DataFrame(data = {'Precision': precision, 'Recall': recall, 'f1 Score': f1_score, 'Num of Labels': support})"
   ]
  },
  {
   "cell_type": "markdown",
   "metadata": {},
   "source": [
    "Question 4\n",
    "-------------\n",
    "\n",
    "Increase the number of labels that are used in the model from 10 per digit to 20 per digit. Re-train and report precision, recall and f1score of your method. Explain in a couple of sentences what do you observe.\n",
    "\n",
    "Marks: 5"
   ]
  },
  {
   "cell_type": "code",
   "execution_count": 897,
   "metadata": {},
   "outputs": [
    {
     "data": {
      "text/html": [
       "<div>\n",
       "<style scoped>\n",
       "    .dataframe tbody tr th:only-of-type {\n",
       "        vertical-align: middle;\n",
       "    }\n",
       "\n",
       "    .dataframe tbody tr th {\n",
       "        vertical-align: top;\n",
       "    }\n",
       "\n",
       "    .dataframe thead th {\n",
       "        text-align: right;\n",
       "    }\n",
       "</style>\n",
       "<table border=\"1\" class=\"dataframe\">\n",
       "  <thead>\n",
       "    <tr style=\"text-align: right;\">\n",
       "      <th></th>\n",
       "      <th>Precision</th>\n",
       "      <th>Recall</th>\n",
       "      <th>f1 Score</th>\n",
       "      <th>Num of Labels</th>\n",
       "    </tr>\n",
       "  </thead>\n",
       "  <tbody>\n",
       "    <tr>\n",
       "      <th>0</th>\n",
       "      <td>1.000000</td>\n",
       "      <td>0.994382</td>\n",
       "      <td>0.997183</td>\n",
       "      <td>178</td>\n",
       "    </tr>\n",
       "    <tr>\n",
       "      <th>1</th>\n",
       "      <td>0.953125</td>\n",
       "      <td>0.335165</td>\n",
       "      <td>0.495935</td>\n",
       "      <td>182</td>\n",
       "    </tr>\n",
       "    <tr>\n",
       "      <th>2</th>\n",
       "      <td>0.745614</td>\n",
       "      <td>0.960452</td>\n",
       "      <td>0.839506</td>\n",
       "      <td>177</td>\n",
       "    </tr>\n",
       "    <tr>\n",
       "      <th>3</th>\n",
       "      <td>0.659898</td>\n",
       "      <td>0.710383</td>\n",
       "      <td>0.684211</td>\n",
       "      <td>183</td>\n",
       "    </tr>\n",
       "    <tr>\n",
       "      <th>4</th>\n",
       "      <td>0.660377</td>\n",
       "      <td>0.966851</td>\n",
       "      <td>0.784753</td>\n",
       "      <td>181</td>\n",
       "    </tr>\n",
       "    <tr>\n",
       "      <th>5</th>\n",
       "      <td>0.826389</td>\n",
       "      <td>0.653846</td>\n",
       "      <td>0.730061</td>\n",
       "      <td>182</td>\n",
       "    </tr>\n",
       "    <tr>\n",
       "      <th>6</th>\n",
       "      <td>0.628472</td>\n",
       "      <td>1.000000</td>\n",
       "      <td>0.771855</td>\n",
       "      <td>181</td>\n",
       "    </tr>\n",
       "    <tr>\n",
       "      <th>7</th>\n",
       "      <td>0.666667</td>\n",
       "      <td>0.927374</td>\n",
       "      <td>0.775701</td>\n",
       "      <td>179</td>\n",
       "    </tr>\n",
       "    <tr>\n",
       "      <th>8</th>\n",
       "      <td>0.328000</td>\n",
       "      <td>0.235632</td>\n",
       "      <td>0.274247</td>\n",
       "      <td>174</td>\n",
       "    </tr>\n",
       "    <tr>\n",
       "      <th>9</th>\n",
       "      <td>0.950000</td>\n",
       "      <td>0.316667</td>\n",
       "      <td>0.475000</td>\n",
       "      <td>180</td>\n",
       "    </tr>\n",
       "  </tbody>\n",
       "</table>\n",
       "</div>"
      ],
      "text/plain": [
       "   Precision    Recall  f1 Score  Num of Labels\n",
       "0   1.000000  0.994382  0.997183            178\n",
       "1   0.953125  0.335165  0.495935            182\n",
       "2   0.745614  0.960452  0.839506            177\n",
       "3   0.659898  0.710383  0.684211            183\n",
       "4   0.660377  0.966851  0.784753            181\n",
       "5   0.826389  0.653846  0.730061            182\n",
       "6   0.628472  1.000000  0.771855            181\n",
       "7   0.666667  0.927374  0.775701            179\n",
       "8   0.328000  0.235632  0.274247            174\n",
       "9   0.950000  0.316667  0.475000            180"
      ]
     },
     "execution_count": 897,
     "metadata": {},
     "output_type": "execute_result"
    }
   ],
   "source": [
    "bBarI, bBar, bI = createDataSet(digits, 20)\n",
    "b = labelProp(bBar, bBarI, bI, W)\n",
    "\n",
    "precision, recall, f1_score, support = sklearn.metrics.precision_recall_fscore_support(digits.target, b)\n",
    "pd.DataFrame(data = {'Precision': precision, 'Recall': recall, 'f1 Score': f1_score, 'Num of Labels': support})"
   ]
  },
  {
   "cell_type": "markdown",
   "metadata": {},
   "source": [
    "## Local Graph Clustering "
   ]
  },
  {
   "cell_type": "code",
   "execution_count": 898,
   "metadata": {},
   "outputs": [
    {
     "name": "stdout",
     "output_type": "stream",
     "text": [
      "910\n"
     ]
    }
   ],
   "source": [
    "import numpy as np\n",
    "\n",
    "# Import networkx to load the data\n",
    "import networkx as nx\n",
    "\n",
    "# Provide the path of the dataset JohnsHopkins55\n",
    "path = 'JohnsHopkins55.graphml'\n",
    "\n",
    "# This dataset is a Facebook anonymized dataset on a particular day in September 2005 \n",
    "# for a student social network at John Hopkins university. The graph is unweighted \n",
    "# and it represents ``friendship'' ties. This graph has 5157 nodes and 186572 edges. \n",
    "# This dataset comes along with 6 features, i.e., second major, high school, gender, dorm, major index and year. \n",
    "# We construct ``ground truth'' clusters by using the features for each node.\n",
    "# In particular, we consider nodes with the same value of a feature to be a cluster, e.g., students of year 2009. \n",
    "# For this assignment we will attempt to find the students of year 2009 using local graph clustering.\n",
    "\n",
    "# Load the data as a graph\n",
    "G = nx.read_graphml(path).to_undirected()\n",
    "\n",
    "# Construct the adjacency matrix\n",
    "A = nx.adjacency_matrix(G).astype(np.float64)\n",
    "ALocalGraphCluster = A\n",
    "# Indices of nodes (students) of class year 2009\n",
    "# There should be 910 students of class year 2009.\n",
    "# We will use these students to measure performance of the model\n",
    "students_of_year_2009 = []\n",
    "ct = 0\n",
    "for node in G.nodes(data=True):\n",
    "    if node[1]['year'] == 2009:\n",
    "        students_of_year_2009.append(ct)\n",
    "    ct += 1\n",
    "print(len(students_of_year_2009))"
   ]
  },
  {
   "cell_type": "markdown",
   "metadata": {},
   "source": [
    "The target cluster is the students of year 2009 in the list: students_of_year_2009.\n",
    "\n",
    "For this problem you will have to use the coordinate algorithm that was introduced in Lecture 14.\n",
    "\n",
    "The coordinate algorithm returns a vector $p$. To get an actual cluster from vector $p$ you will have to round the output of the coordinate algorithm using the rounding technique that was discussed in Lecture 14. \n",
    "\n",
    "To measure accuracy of the rounded output you can use number of true positives and the number of false positives of the predicted cluster. True positives are the predicted nodes that are also part of class year 2009. False positive are the number of predicted nodes that are not part of the class year 2009."
   ]
  },
  {
   "cell_type": "code",
   "execution_count": 899,
   "metadata": {
    "scrolled": true
   },
   "outputs": [],
   "source": [
    "#A: Adjacency Martix\n",
    "#degree: array of degrees of each nodes\n",
    "\n",
    "def localGraphCluster(A, degree, seed, alpha, e, max_iters = 10000):\n",
    "    n = A.shape[0]\n",
    "    p = np.zeros(n)\n",
    "    r = np.zeros(n)\n",
    "    nodes = {seed}\n",
    "    r[seed] = 1\n",
    "    i = 0\n",
    "    while i < max_iters and len(nodes) > 0:\n",
    "        u = random.sample(nodes, 1)[0]\n",
    "        p[u] = p[u] + alpha * r[u]\n",
    "        v = A[u].indices\n",
    "        r[v] += (0.5 * (1 - alpha) * r[u]) / degree[u]\n",
    "        r[u] *= 0.5 * (1 - alpha)\n",
    "        \n",
    "        if r[u] < e * degree[u]:\n",
    "            nodes.remove(u)\n",
    "        \n",
    "        nodes.update({i for i in v if r[i] >= e * degree[i]})\n",
    "        i += 1\n",
    "    return p\n",
    "\n",
    "def getCluster(p, A, degree):\n",
    "    non0Nodes = np.argwhere(p > 0).flatten()\n",
    "    non0Nodes = non0Nodes[np.argsort(-p[non0Nodes]/degree[non0Nodes])]\n",
    "    edges = np.zeros_like(p)\n",
    "    degreeSum = 0\n",
    "    conductances = []\n",
    "    \n",
    "    for i, node in enumerate(non0Nodes):\n",
    "        neighbours = A[node].indices\n",
    "        degreeSum += len(neighbours)\n",
    "        edges[neighbours] = 1\n",
    "        edges[non0Nodes[: i + 1]] = 0\n",
    "        conductances.append(sum(edges) / degreeSum)\n",
    "    cluster = non0Nodes[: np.argmin(conductances) + 1]\n",
    "    return cluster"
   ]
  },
  {
   "cell_type": "markdown",
   "metadata": {},
   "source": [
    "Question 5\n",
    "-------------\n",
    "\n",
    "1) Report the number of nonzero nodes in the output of the coordinate algorithm (vector $p$) as the tolerance parameter $\\epsilon$ goes to zero. In particular, plot the number of nonzeros in the output $p$ against $\\epsilon$.\n",
    "The number of nonzeros should increase as $\\epsilon$ goes to zero.\n",
    "\n",
    "Marks: 10"
   ]
  },
  {
   "cell_type": "code",
   "execution_count": 900,
   "metadata": {
    "scrolled": false
   },
   "outputs": [
    {
     "data": {
      "image/png": "[encoded data removed]",
      "text/plain": [
       "<Figure size 432x288 with 1 Axes>"
      ]
     },
     "metadata": {
      "needs_background": "light"
     },
     "output_type": "display_data"
    }
   ],
   "source": [
    "seed = 5000\n",
    "alpha = 0.1\n",
    "non0P = []\n",
    "A = ALocalGraphCluster\n",
    "#epsilon from 1e-10 to 1\n",
    "epsilonList = np.power(10, np.linspace(0, -10, 100))\n",
    "degree = np.array([A[i].sum() for i in range(A.shape[0])], dtype = int)\n",
    "\n",
    "for epsilon in epsilonList:\n",
    "    p = localGraphCluster(A, degree, seed, alpha, epsilon)\n",
    "    non0P.append(p[p > 0].size)\n",
    "        \n",
    "plt.figure()\n",
    "plt.plot(np.log10(epsilonList), non0P)\n",
    "plt.xlabel('$\\epsilon$')\n",
    "plt.ylabel('Non Zero $p$')\n",
    "plt.title('Number of nonzeros in the output $p$ against $\\epsilon$')\n",
    "plt.show()"
   ]
  },
  {
   "cell_type": "markdown",
   "metadata": {},
   "source": [
    "Question 6\n",
    "-------------\n",
    "\n",
    "2) Run the coordinate algorithm using as seed node the node with index 5000. Round the output to get an actual cluster back. Measure true positives and false positives of the predicted cluster. Report these two numbers.\n",
    "\n",
    "Marks: 10"
   ]
  },
  {
   "cell_type": "code",
   "execution_count": 901,
   "metadata": {},
   "outputs": [
    {
     "name": "stdout",
     "output_type": "stream",
     "text": [
      "True and False positives for seed: 5000\n",
      "True Positive: 744\n",
      "False Positive: 71\n"
     ]
    }
   ],
   "source": [
    "epsilon = 1e-5\n",
    "seed5000 = 5000\n",
    "alpha = 0.1\n",
    "p5000 = localGraphCluster(A, degree, seed5000, alpha, epsilon)\n",
    "cluster = getCluster(p5000, A, degree)\n",
    "\n",
    "truePos = 0\n",
    "falsePos = 0\n",
    "for i in cluster:\n",
    "    if i in students_of_year_2009:\n",
    "        truePos += 1\n",
    "    else:\n",
    "        falsePos += 1\n",
    "\n",
    "print('True and False positives for seed:', seed5000)\n",
    "print('True Positive:', truePos)\n",
    "print('False Positive:', falsePos)"
   ]
  },
  {
   "cell_type": "markdown",
   "metadata": {},
   "source": [
    "Question 7\n",
    "-------------\n",
    "\n",
    "3) Run the coordinate algorithm using as seed node the node with index 146. Round the output to get an actual cluster back. Measure true positives and false positive of the predicted cluster. Report these two numbers. How do they compare to the results in 2) ? Are they different? If yes, why do you think this might have happened? Explain intuitively in a couple of sentences why you think this might happen.\n",
    "\n",
    "Marks: 5"
   ]
  },
  {
   "cell_type": "code",
   "execution_count": 902,
   "metadata": {},
   "outputs": [
    {
     "name": "stdout",
     "output_type": "stream",
     "text": [
      "True and False positives for seed: 146\n",
      "True Positive: 572\n",
      "False Positive: 111\n"
     ]
    }
   ],
   "source": [
    "seed146 = 146\n",
    "p146 = localGraphCluster(A, degree, seed146, alpha, epsilon)\n",
    "cluster = getCluster(p146, A, degree)\n",
    "\n",
    "truePos = 0\n",
    "falsePos = 0\n",
    "for i in cluster:\n",
    "    if i in students_of_year_2009:\n",
    "        truePos += 1\n",
    "    else:\n",
    "        falsePos += 1\n",
    "print('True and False positives for seed:', seed146)\n",
    "print('True Positive:', truePos)\n",
    "print('False Positive:', falsePos)"
   ]
  },
  {
   "cell_type": "markdown",
   "metadata": {},
   "source": [
    "## Compare nodes 5000 and 146\n",
    "Yes the results for Seed node 5000 and Seed node 146 are indeed different. The number of true positives decrease, and we get more False Positives when we start with node 146. This is because node 146 only has 3 neightbours, thus we miss out on more classes "
   ]
  },
  {
   "cell_type": "markdown",
   "metadata": {},
   "source": [
    "## Reccomender System"
   ]
  },
  {
   "cell_type": "markdown",
   "metadata": {},
   "source": [
    "Download the data matrix $A$ from the webiste https://grouplens.org. Navigate to the dataset tab https://grouplens.org/datasets/movielens/ and download the dataset MovieLens 100K. Read the description of the dataset carefully. \n",
    "This dataset includes 5 data matrices $A$. We only need to use one of these in this assignment. In particular, use the dataset u1.base. Use the corresponding testing data u1.test to measure the accuracy of your model. For this question only it's ok if you use the testing data to tune parameters. Ignore the timestap feature in the dataset. We do not need this for this problem."
   ]
  },
  {
   "cell_type": "code",
   "execution_count": 903,
   "metadata": {},
   "outputs": [],
   "source": [
    "train = np.loadtxt('ml-100k/u1.base')[:, :3]\n",
    "test = np.loadtxt('ml-100k/u1.test')[:, :3]\n",
    "\n",
    "def getA(data, n, m):\n",
    "    data[:, :2] = data[:, :2] - 1\n",
    "    A = np.zeros((n, m))\n",
    "    for i in range(len(data)):\n",
    "        user = int(data[i][0])\n",
    "        movie = int(data[i][1])\n",
    "        rating = data[i][2]\n",
    "        A[user][movie] = rating\n",
    "    return A\n",
    "ATrainRS = getA(train, 943, 1682)\n",
    "ATestRS = getA(test, 943, 1682)\n",
    "x0 = np.random.randint(1, 6, ATrainRS.shape)\n",
    "\n",
    "knownValues = ATrainRS != 0\n",
    "knownTestValues = ATestRS != 0"
   ]
  },
  {
   "cell_type": "markdown",
   "metadata": {},
   "source": [
    "Question 8\n",
    "------------\n",
    "\n",
    "Solve the penalized problem\n",
    "$$\n",
    "\\mbox{minimize} \\ \\lambda \\|X\\|_* + \\sum_{ij \\ | \\ A_{ij} \\ is \\ known} (X_{ij} - A_{ij})^2,\n",
    "$$\n",
    "where $\\|X\\|_*$ is the nuclear norm, using proximal gradient descent. This algorithm requires thresholding the singular values of $X$ at each iteration.\n",
    "You can use https://docs.scipy.org/doc/scipy/reference/generated/scipy.linalg.svd.html (sparse matrices) or https://docs.scipy.org/doc/numpy/reference/generated/numpy.linalg.svd.html (dense matrices).\n",
    "\n",
    "To check your solution against u1.test, report your score as follows. Let $X$ be the output of the proximal gradient method, let $A'$ and $\\Omega'$ be the data matrix and the non-zero entry list for the test data. Then the score is \n",
    "$$\n",
    "\\frac{1}{|\\Omega'|} \\sum_{(i,j)\\in\\Omega'} | X_{ij} - A_{ij}'|.\n",
    "$$\n",
    "In other words, the average absolute deviation of the computed ratings from the predicted ratings. Report your score.\n",
    "\n",
    "Marks: 15"
   ]
  },
  {
   "cell_type": "code",
   "execution_count": 904,
   "metadata": {},
   "outputs": [],
   "source": [
    "def prox(lambda_, alpha, xCurrent, gradF):\n",
    "    z = xCurrent - alpha * gradF\n",
    "    u, s, vT = np.linalg.svd(z)\n",
    "    \n",
    "    s = np.maximum(s - alpha * lambda_, 0)\n",
    "    \n",
    "    sDense = np.zeros((u.shape[1], vT.shape[0]))\n",
    "    sDense[:len(s), :len(s)] = np.diag(s)\n",
    "    \n",
    "    xNext = (u.dot(sDense)).dot(vT)\n",
    "    return xNext, s\n",
    "\n",
    "def lineSearchRS(xCurrent, A, gradF):\n",
    "    alpha = initParams['alpha0']\n",
    "    theta = initParams['theta']\n",
    "    lambda_ = 50\n",
    "    \n",
    "    rs = ReccomenderSystem()\n",
    "    \n",
    "    #F(x_k)\n",
    "    s = np.linalg.svd(xCurrent, compute_uv = False)\n",
    "    F_x_k = rs.objFunc(xCurrent, A, s)\n",
    "    \n",
    "    #l(x_k)\n",
    "    l_x_k = F_x_k\n",
    "    \n",
    "    #x(alpha)\n",
    "    x_alpha, s = prox(lambda_, alpha, xCurrent, gradF)\n",
    "    \n",
    "    #F(x(alpha))\n",
    "    F_x_alpha = rs.objFunc(x_alpha, A, s)\n",
    "    \n",
    "    #l(x(alpha))\n",
    "    l_x_alpha = rs.gx(x_alpha, s) + rs.fx(xCurrent, A) + (gradF * (x_alpha - xCurrent)).sum()\n",
    "    \n",
    "    while (F_x_alpha > F_x_k - theta * (l_x_k - l_x_alpha)):\n",
    "        alpha /= 2\n",
    "        \n",
    "        #x(alpha)\n",
    "        x_alpha, s = prox(lambda_, alpha, xCurrent, gradF)\n",
    "        \n",
    "        #F(x(alpha))\n",
    "        F_x_alpha = rs.objFunc(x_alpha, A, s)\n",
    "        \n",
    "        #l(x(alpha))\n",
    "        l_x_alpha = rs.gx(x_alpha, s) + rs.fx(xCurrent, A) + (gradF * (x_alpha - xCurrent)).sum()\n",
    "    \n",
    "    return alpha\n",
    "\n",
    "def error(x, ATest):\n",
    "    x = np.round(x)\n",
    "    error = np.linalg.norm(x[knownTestValues] - ATest[knownTestValues], 1)/knownTestValues.sum()\n",
    "    return error"
   ]
  },
  {
   "cell_type": "code",
   "execution_count": 905,
   "metadata": {},
   "outputs": [],
   "source": [
    "class ReccomenderSystem():\n",
    "    def __init__(self):\n",
    "        self.lambda_ = 50 #initParams[\"lambda_\"]\n",
    "        \n",
    "    def __str__(self):\n",
    "        return 'Reccomender System'\n",
    "    \n",
    "    def gx(self, X, s):\n",
    "        lambda_ = self.lambda_ \n",
    "        return lambda_ * np.sum(s)\n",
    "    \n",
    "    def fx(self, X, A):\n",
    "        return np.sum((X[knownValues] - A[knownValues]) ** 2)\n",
    "    \n",
    "    def objFunc(self, X, A, s):\n",
    "        g_x = self.gx(A, s)\n",
    "        f_x = self.fx(X, A)\n",
    "        return g_x + f_x\n",
    "    \n",
    "    def gradient(self, X, A):\n",
    "        gradF = np.zeros_like(A)\n",
    "        gradF[knownValues] = 2 * (X[knownValues] - A[knownValues])\n",
    "        return gradF"
   ]
  },
  {
   "cell_type": "code",
   "execution_count": 906,
   "metadata": {},
   "outputs": [],
   "source": [
    "def penalizer(xCurrent, A):\n",
    "    rs = ReccomenderSystem()\n",
    "    max_iters = 200\n",
    "    lambda_ = 10\n",
    "    for i in range(max_iters):\n",
    "        \n",
    "        gradF = rs.gradient(xCurrent, A)\n",
    "        alpha = lineSearchRS(xCurrent, A, gradF)\n",
    "\n",
    "        xNext, s = prox(lambda_, alpha, xCurrent, gradF)\n",
    "        if (i % 20 == 0): \n",
    "            print('Iteration:', i, 'out of', max_iters, 'iterations')\n",
    "            print('Objective Function:', rs.objFunc(xNext, A, s))\n",
    "            \n",
    "        Gx = (xCurrent - xNext) / alpha\n",
    "        \n",
    "        if (np.linalg.norm(Gx) < 1e-2):\n",
    "            return xNext\n",
    "        else:\n",
    "            xCurrent = xNext\n",
    "                \n",
    "    return xNext"
   ]
  },
  {
   "cell_type": "code",
   "execution_count": 667,
   "metadata": {
    "scrolled": false
   },
   "outputs": [
    {
     "name": "stdout",
     "output_type": "stream",
     "text": [
      "Iteration: 0 out of 200 iterations\n",
      "Objective Function: 2224034.5471557504\n",
      "Iteration: 20 out of 200 iterations\n",
      "Objective Function: 342708.27298988577\n",
      "Iteration: 40 out of 200 iterations\n",
      "Objective Function: 332658.91948083654\n",
      "Iteration: 60 out of 200 iterations\n",
      "Objective Function: 327585.0407599081\n",
      "Iteration: 80 out of 200 iterations\n",
      "Objective Function: 324214.87051402545\n",
      "Iteration: 100 out of 200 iterations\n",
      "Objective Function: 321716.4282558738\n",
      "Iteration: 120 out of 200 iterations\n",
      "Objective Function: 319755.3231732809\n",
      "Iteration: 140 out of 200 iterations\n",
      "Objective Function: 318164.5651491285\n",
      "Iteration: 160 out of 200 iterations\n",
      "Objective Function: 316847.3353249789\n",
      "Iteration: 180 out of 200 iterations\n",
      "Objective Function: 315742.0705507721\n",
      "Score: 0.7265\n"
     ]
    }
   ],
   "source": [
    "rs = ReccomenderSystem()\n",
    "x0[knownValues] = ATrainRS[knownValues]\n",
    "x = penalizer(x0, ATrainRS)\n",
    "score = error(x, ATest)\n",
    "print('Score:', score)"
   ]
  },
  {
   "cell_type": "markdown",
   "metadata": {},
   "source": [
    "Question 9\n",
    "------------\n",
    "\n",
    "Now consider the factorized problem\n",
    "$$\n",
    "\\mbox{minimize}_{L,R} \\ \\frac{\\lambda}{2} \\left(\\|L\\|_F^2 + \\|R\\|_F^2\\right) + \\|W\\circ (LR^T-A)\\|_F^2\n",
    "$$\n",
    "See Lecture 15 about details for this problem. Solve this problem and obtain the matrix $X=LR^T$. Use $X$ as the predicted rating and report your score. For calculating derivatives of matrix functions you can have a look here: https://www.math.uwaterloo.ca/~hwolkowi/matrixcookbook.pdf. \n",
    "\n",
    "Marks: 10"
   ]
  },
  {
   "cell_type": "code",
   "execution_count": 907,
   "metadata": {},
   "outputs": [],
   "source": [
    "A = ATrainRS\n",
    "m, n = A.shape\n",
    "W = np.zeros_like(A)\n",
    "W[knownValues] = 1\n",
    "k = 100\n",
    "L0 = np.random.rand(m, k)\n",
    "R0 = np.random.rand(n, k)\n",
    "class FactorizedReccomenderSystem():\n",
    "    def __init__(self, lambda_):\n",
    "        self.lambda_ = lambda_\n",
    "    \n",
    "    def __str__(self):\n",
    "        return 'Factorized Reccomender System'\n",
    "    \n",
    "    def objFunc(self, L, R, W, A):\n",
    "        lambda_ = self.lambda_\n",
    "        Lnorm = np.linalg.norm(L, ord = 'fro') ** 2\n",
    "        Rnorm = np.linalg.norm(R, ord = 'fro') ** 2\n",
    "        right = np.linalg.norm(W * (L @ R.T - A), ord = 'fro') ** 2\n",
    "        return (lambda_ / 2) * (Lnorm + Rnorm) + right\n",
    "\n",
    "    def gradL(self, L, R, W, A):\n",
    "        lambda_ = self.lambda_\n",
    "        return lambda_ * L + 2 * (W * (L @ R.T - A)) @ R\n",
    "\n",
    "    def gradR(self, L, R, W, A):\n",
    "        lambda_ = self.lambda_\n",
    "        return lambda_ * R + 2 * ((W * (L @ R.T - A)).T @ L)\n",
    "\n",
    "    def LLineSearch(self, L, R, W, A):\n",
    "        lambda_ = self.lambda_\n",
    "        alpha = 1\n",
    "        f_x_k = objFunc(lambda_, L, R, W, A)\n",
    "        gL = gradL(lambda_, L, R, W, A)\n",
    "        LNext = L - alpha * gL\n",
    "        while(objFunc(lambda_, LNext, R, W, A) > f_x_k):\n",
    "            alpha /= 2\n",
    "            LNext = L - alpha * gL\n",
    "        return alpha\n",
    "\n",
    "    def RLineSearch(self, L, R, W, A):\n",
    "        lambda_ = self.lambda_\n",
    "        alpha = 1\n",
    "        f_x_k = objFunc(lambda_, L, R, W, A)\n",
    "        gR = gradR(lambda_, L, R, W, A)\n",
    "        RNext = R - alpha * gR\n",
    "        while(objFunc(lambda_, L, RNext, W, A) > f_x_k):\n",
    "            alpha /= 2\n",
    "            RNext = R - alpha * gR\n",
    "        return alpha\n",
    "\n",
    "    def factorizedPenalizer(self, L, R, W, A):\n",
    "        lambda_ = self.lambda_\n",
    "        max_iters = initParams['max_iter']\n",
    "        for i in range(max_iters):\n",
    "            #Fix L and solve wrt R\n",
    "            alphaR =  RLineSearch(lambda_, L, R, W, A)\n",
    "            gR = gradR(lambda_, L, R, W, A)\n",
    "\n",
    "            R = R - alphaR * gR\n",
    "\n",
    "            #Fix R and solve wrt L\n",
    "            alphaL = LLineSearch(lambda_, L, R, W, A)\n",
    "            gL = gradL(lambda_, L, R, W, A)\n",
    "            L = L - alphaL * gL\n",
    "\n",
    "            if (i % 200 == 0):\n",
    "                print('Iteration:', i, 'out of', max_iters, 'iterations')\n",
    "                print('Objective Function:', objFunc(lambda_, L, R, W, A))\n",
    "\n",
    "        return L, R"
   ]
  },
  {
   "cell_type": "code",
   "execution_count": 908,
   "metadata": {},
   "outputs": [
    {
     "name": "stdout",
     "output_type": "stream",
     "text": [
      "Iteration: 0 out of 2000 iterations\n",
      "Objective Function: 10669077.629436143\n",
      "Iteration: 200 out of 2000 iterations\n",
      "Objective Function: 81709.61436792536\n",
      "Iteration: 400 out of 2000 iterations\n",
      "Objective Function: 72281.12131890278\n",
      "Iteration: 600 out of 2000 iterations\n",
      "Objective Function: 70697.90595178634\n",
      "Iteration: 800 out of 2000 iterations\n",
      "Objective Function: 70166.04706762842\n",
      "Iteration: 1000 out of 2000 iterations\n",
      "Objective Function: 69894.50762842332\n",
      "Iteration: 1200 out of 2000 iterations\n",
      "Objective Function: 69730.00617448597\n",
      "Iteration: 1400 out of 2000 iterations\n",
      "Objective Function: 69620.10686353974\n",
      "Iteration: 1600 out of 2000 iterations\n",
      "Objective Function: 69541.97711507631\n",
      "Iteration: 1800 out of 2000 iterations\n",
      "Objective Function: 69484.5006241859\n",
      "Score: 0.75265\n"
     ]
    }
   ],
   "source": [
    "lambda_ = 10\n",
    "factorizedReccomenderSystem = FactorizedReccomenderSystem(lambda_)\n",
    "L, R = factorizedReccomenderSystem.factorizedPenalizer(L0, R0, W, A)\n",
    "x = L @ R.T\n",
    "score = error(x, ATest)\n",
    "print('Score:', score)"
   ]
  },
  {
   "cell_type": "markdown",
   "metadata": {},
   "source": [
    "## Nonnegative Matrix Factorization: facial feature extraction"
   ]
  },
  {
   "cell_type": "code",
   "execution_count": 909,
   "metadata": {},
   "outputs": [
    {
     "name": "stdout",
     "output_type": "stream",
     "text": [
      "Dataset consists of 400 faces\n"
     ]
    },
    {
     "data": {
      "image/png": "[encoded data removed]",
      "text/plain": [
       "<Figure size 864x162.72 with 6 Axes>"
      ]
     },
     "metadata": {},
     "output_type": "display_data"
    }
   ],
   "source": [
    "# This piece of code is for loading data and visualizing \n",
    "# the first 6 images in the dataset.\n",
    "\n",
    "# Useful packages for loading the data and plotting\n",
    "from numpy.random import RandomState\n",
    "import matplotlib.pyplot as plt\n",
    "from sklearn.datasets import fetch_olivetti_faces\n",
    "\n",
    "n_row, n_col = 2, 3\n",
    "image_shape = (64, 64)\n",
    "rng = RandomState(0)\n",
    "\n",
    "# Useful function for plotting\n",
    "def plot_gallery(title, images, n_col=n_col, n_row=n_row, cmap=plt.cm.gray):\n",
    "    plt.figure(figsize=(2. * n_col, 2.26 * n_row))\n",
    "    plt.suptitle(title, size=16)\n",
    "    for i, comp in enumerate(images):\n",
    "        plt.subplot(n_row, n_col, i + 1)\n",
    "        vmax = max(comp.max(), -comp.min())\n",
    "        plt.imshow(comp.reshape(image_shape), cmap=cmap,\n",
    "                   interpolation='nearest',\n",
    "                   vmin=-vmax, vmax=vmax)\n",
    "        plt.xticks(())\n",
    "        plt.yticks(())\n",
    "    plt.subplots_adjust(0.12, 0.05, 0.99, 0.75, 0.04, 0.)\n",
    "\n",
    "# Load faces data\n",
    "dataset = fetch_olivetti_faces(shuffle=True, random_state=rng)\n",
    "\n",
    "# Store the vectorized images. Each image has dimensions 64 x 64.\n",
    "faces = dataset.data\n",
    "\n",
    "print(\"Dataset consists of %d faces\" % len(faces))\n",
    "    \n",
    "plot_gallery(\"First 6 faces from the dataset\", faces[:6], 6, 1)    "
   ]
  },
  {
   "cell_type": "code",
   "execution_count": 910,
   "metadata": {},
   "outputs": [],
   "source": [
    "class NonNegMatFac():\n",
    "    def __init__(self, data):\n",
    "        self.sigma = initParams['sigma']\n",
    "        self.delta = initParams['delta']\n",
    "        self.X = data.T\n",
    "    \n",
    "    def __str__(self):\n",
    "        return 'Non-negative Matrix Factorization'\n",
    "    \n",
    "    def objFunc(self, W, H):\n",
    "        X = self.X\n",
    "        return 0.5 * np.linalg.norm(W @ H - X, ord='fro') ** 2\n",
    "    \n",
    "    def gradH(self, W, H):\n",
    "        X = self.X\n",
    "        return W.T @ (W @ H - X)\n",
    "        \n",
    "    def gradW(self, W, H):\n",
    "        X = self.X\n",
    "        return (W @ H - X) @ H.T\n",
    "    \n",
    "    def HBar(self, W, H):\n",
    "        gradH = self.gradH(W, H)\n",
    "        HBar = np.where(gradH >= 0, H, np.maximum(H, self.sigma * np.ones((H.shape))))\n",
    "        return HBar\n",
    "    \n",
    "    def WBar(self, W, H):\n",
    "        gradW = self.gradW(W, H)\n",
    "        WBar = np.where(gradW >= 0, W, np.maximum(W, self.sigma * np.ones((W.shape))))\n",
    "        return WBar\n",
    "    \n",
    "    def bars(self, W, H):\n",
    "        HBar = self.HBar(W, H)\n",
    "        WBar = self.WBar(W, H)\n",
    "        return HBar, WBar"
   ]
  },
  {
   "cell_type": "markdown",
   "metadata": {},
   "source": [
    "Question 10\n",
    "--------------\n",
    "\n",
    "Use the data in \"faces\" from the above code for the nonnegative matrix factorization problem \n",
    "\\begin{align*}\n",
    "\\mbox{minimize}_{W,H} &  \\ \\| WH-X\\|_F^2\\\\\n",
    "\\mbox{subj. to} & \\ W_{ij}\\ge 0 \\ \\forall i,j \\\\\n",
    "                &  \\ H_{ij}\\ge 0 \\ \\forall i,j\n",
    "\\end{align*}\n",
    "where $W\\in\\mathbb{R}^{m\\times r}$ and $H\\in\\mathbb{R}^{r\\times n}$.\n",
    "Set parameter $r=6$ in the nonnegative factorization problem. Extract the features matrix $W$ by solving the non-negative matrix factorization problem. Report the 6 features of the faces dataset, i.e., the 6 columns of matrix $W$. You can report the features by visualizing them in a similar way to the above example.\n",
    "\n",
    "Marks: 15"
   ]
  },
  {
   "cell_type": "code",
   "execution_count": 911,
   "metadata": {},
   "outputs": [],
   "source": [
    "def nonNegMatFac(data, r = 6):\n",
    "    m, n = data.T.shape\n",
    "    max_iters = initParams['max_iter']\n",
    "    nnmf = NonNegMatFac(data)\n",
    "    W = np.random.uniform(0, 1, size = (m, r))\n",
    "    H = np.random.uniform(0, 1, size = (r, n))\n",
    "    delta = initParams['delta']\n",
    "    \n",
    "    for i in range(max_iters):\n",
    "        HBar, WBar = nnmf.bars(W, H)\n",
    "        \n",
    "        H = H - np.divide(HBar, ((W.T @ W @ HBar) + delta)) * nnmf.gradH(W, H)\n",
    "        W = W - np.divide(WBar, ((WBar @ H @ HBar.T) + delta)) * nnmf.gradW(W, H)\n",
    "        \n",
    "        #Normalize\n",
    "        S = np.eye(r) / np.sum(W, 0)\n",
    "        W = W @ S\n",
    "        H = np.linalg.inv(S) @ H\n",
    "        if (i % 200 == 0):\n",
    "            print('Iteration:', i, 'out of', max_iters, 'iterations')\n",
    "            print('Objective Function:', nnmf.objFunc(W, H))\n",
    "    return W, H"
   ]
  },
  {
   "cell_type": "code",
   "execution_count": 912,
   "metadata": {},
   "outputs": [
    {
     "name": "stdout",
     "output_type": "stream",
     "text": [
      "Iteration: 0 out of 2000 iterations\n",
      "Objective Function: 25793.681538200235\n",
      "Iteration: 200 out of 2000 iterations\n",
      "Objective Function: 7010.241055904761\n",
      "Iteration: 400 out of 2000 iterations\n",
      "Objective Function: 6910.017278901699\n",
      "Iteration: 600 out of 2000 iterations\n",
      "Objective Function: 6891.487934288256\n",
      "Iteration: 800 out of 2000 iterations\n",
      "Objective Function: 6882.712619091637\n",
      "Iteration: 1000 out of 2000 iterations\n",
      "Objective Function: 6877.521901832734\n",
      "Iteration: 1200 out of 2000 iterations\n",
      "Objective Function: 6873.825724841319\n",
      "Iteration: 1400 out of 2000 iterations\n",
      "Objective Function: 6871.02090566685\n",
      "Iteration: 1600 out of 2000 iterations\n",
      "Objective Function: 6868.694681355642\n",
      "Iteration: 1800 out of 2000 iterations\n",
      "Objective Function: 6866.78572314461\n"
     ]
    },
    {
     "data": {
      "image/png": "[encoded data removed]",
      "text/plain": [
       "<Figure size 864x162.72 with 6 Axes>"
      ]
     },
     "metadata": {},
     "output_type": "display_data"
    }
   ],
   "source": [
    "W, H = nonNegMatFac(faces)\n",
    "plot_gallery(\"Features\", W.T[:6], 6, 1)"
   ]
  },
  {
   "cell_type": "markdown",
   "metadata": {},
   "source": [
    "Question 11\n",
    "--------------\n",
    "\n",
    "Visualize the approximation of the first 6 images using the feature matrix $W$ and the importance matrix $H$. Note that each face can be approaximated by a linear combination of features (columns) from matrix $W$. The positive coefficients of this linear combination are given by matrix $H$.\n",
    "\n",
    "Marks: 5"
   ]
  },
  {
   "cell_type": "code",
   "execution_count": 913,
   "metadata": {},
   "outputs": [
    {
     "data": {
      "image/png": "[encoded data removed]",
      "text/plain": [
       "<Figure size 864x162.72 with 6 Axes>"
      ]
     },
     "metadata": {},
     "output_type": "display_data"
    }
   ],
   "source": [
    "WH = W @ H\n",
    "plot_gallery('Approximations of First 6 Images', WH.T[:6], 6, 1)"
   ]
  },
  {
   "cell_type": "markdown",
   "metadata": {},
   "source": [
    "Question 12\n",
    "--------------\n",
    "\n",
    "Use matrix $H$ to find the 3 most important features of the first 6 faces. To find the 3 most important features for an image pick the columns of $W$ with the largest coefficients in matrix $H$.\n",
    "\n",
    "Marks: 5"
   ]
  },
  {
   "cell_type": "code",
   "execution_count": 914,
   "metadata": {
    "scrolled": false
   },
   "outputs": [
    {
     "data": {
      "image/png": "[encoded data removed]",
      "text/plain": [
       "<Figure size 864x162.72 with 6 Axes>"
      ]
     },
     "metadata": {},
     "output_type": "display_data"
    },
    {
     "data": {
      "image/png": "[encoded data removed]",
      "text/plain": [
       "<Figure size 864x162.72 with 6 Axes>"
      ]
     },
     "metadata": {},
     "output_type": "display_data"
    },
    {
     "data": {
      "image/png": "[encoded data removed]",
      "text/plain": [
       "<Figure size 864x162.72 with 6 Axes>"
      ]
     },
     "metadata": {},
     "output_type": "display_data"
    },
    {
     "data": {
      "image/png": "[encoded data removed]",
      "text/plain": [
       "<Figure size 864x162.72 with 6 Axes>"
      ]
     },
     "metadata": {},
     "output_type": "display_data"
    }
   ],
   "source": [
    "first6 = faces[: 6]\n",
    "top3Features = []\n",
    "for i in range(6):\n",
    "    top3Features.append(np.argsort(-H[:,i])[:3])\n",
    "top3Features = np.asarray(top3Features)\n",
    "for i in range(3):\n",
    "    first6 = np.append(first6, W.T[top3Features.T[i]], 0)\n",
    "for i in range(4):\n",
    "    if (i == 0):\n",
    "        plot_gallery('Original', first6[0: (i + 1) * 6], 6, 1)\n",
    "    else:\n",
    "        plot_gallery('Feature ' + str(i), first6[i * 6: (i + 1) * 6], 6, 1)"
   ]
  }
 ],
 "metadata": {
  "kernelspec": {
   "display_name": "Python 3",
   "language": "python",
   "name": "python3"
  },
  "language_info": {
   "codemirror_mode": {
    "name": "ipython",
    "version": 3
   },
   "file_extension": ".py",
   "mimetype": "text/x-python",
   "name": "python",
   "nbconvert_exporter": "python",
   "pygments_lexer": "ipython3",
   "version": "3.7.5"
  }
 },
 "nbformat": 4,
 "nbformat_minor": 2
}
